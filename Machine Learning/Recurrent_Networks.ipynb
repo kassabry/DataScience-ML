{
 "cells": [
  {
   "cell_type": "markdown",
   "metadata": {},
   "source": [
    "# Load Data (5 points)\n",
    "* Find a text dataset (you need a lot of data for a good model)\n",
    "    * Scripts of Shakespear plays\n",
    "    * Lyrics from your favorite songs\n",
    "    * Books\n",
    "    * Lines of code\n",
    "    * Steal the Declaration of Independence\n",
    "    * etc\n",
    "    "
   ]
  },
  {
   "cell_type": "code",
   "execution_count": 35,
   "metadata": {},
   "outputs": [],
   "source": [
    "from keras.datasets import mnist\n",
    "from keras.models import Sequential\n",
    "from keras.layers import *\n",
    "from keras.models import Model\n",
    "import matplotlib.pyplot as plt\n",
    "import numpy as np\n",
    "import operator\n",
    "import pandas as pd\n",
    "from keras.utils import to_categorical\n",
    "from sklearn.model_selection import train_test_split\n",
    "from collections import defaultdict, Counter\n",
    "from itertools import chain\n",
    "import seaborn as sns"
   ]
  },
  {
   "cell_type": "code",
   "execution_count": 36,
   "metadata": {},
   "outputs": [],
   "source": [
    "taylor = open(\"TaylorSwift.txt\", 'r')\n",
    "taylor_list = []\n",
    "tt_taylor_list = []\n",
    "t_taylor_list = []\n",
    "temp_taylor_list = []\n",
    "new_taylor_list = []\n",
    "\n",
    "for line in taylor.readlines():\n",
    "    split = line.split('\\n')\n",
    "    #split = line.split(' ')\n",
    "    for x in split:\n",
    "        temp_taylor_list.append(x)\n",
    "    #last_index = len(temp_taylor_list) - 1\n",
    "    #del temp_taylor_list[last_index]   \n",
    "    t_taylor_list.append(temp_taylor_list)\n",
    "    temp_taylor_list = []\n",
    "\n",
    "for temp_string in t_taylor_list:\n",
    "    new_taylor_list.append(temp_string[0])\n",
    "\n",
    "for x in new_taylor_list:\n",
    "    temp_list = []\n",
    "    temp_list.append(x)\n",
    "    tt_taylor_list.append(temp_list)\n",
    "\n",
    "for x in tt_taylor_list:\n",
    "    str1 = \"\"\n",
    "    str1 = str1.join(map(str, x))\n",
    "    temp_split = str1.split(' ')\n",
    "    empty_list = []\n",
    "    for y in temp_split:\n",
    "        empty_list.append(y)\n",
    "    taylor_list.append(empty_list)\n",
    "\n",
    "lower_taylor_lis = []    \n",
    "for lis in taylor_list:\n",
    "    empty_list = []\n",
    "    for string in lis:\n",
    "        new_string = string.lower()\n",
    "        empty_list.append(new_string)\n",
    "    lower_taylor_lis.append(empty_list)\n"
   ]
  },
  {
   "cell_type": "code",
   "execution_count": 37,
   "metadata": {},
   "outputs": [
    {
     "name": "stdout",
     "output_type": "stream",
     "text": [
      "[8, 8, 5, 7, 7, 5, 10, 12, 6, 7]\n"
     ]
    }
   ],
   "source": [
    "line_count = []\n",
    "for x in lower_taylor_lis:\n",
    "    line_count.append(len(x))\n",
    "\n",
    "print(line_count[:10])"
   ]
  },
  {
   "cell_type": "code",
   "execution_count": 38,
   "metadata": {},
   "outputs": [],
   "source": [
    "def unique(data):\n",
    "    unique_list = []\n",
    "    value_dict = []\n",
    "    for x in data:\n",
    "        for y in x:\n",
    "            if(y not in unique_list):\n",
    "                unique_list.append(y)\n",
    "    for i in range(len(unique_list)):\n",
    "        value_dict.append([unique_list[i], (i+1)])\n",
    "    \n",
    "    return value_dict"
   ]
  },
  {
   "cell_type": "code",
   "execution_count": 39,
   "metadata": {},
   "outputs": [],
   "source": [
    "temp_taylor = []\n",
    "for x in lower_taylor_lis:\n",
    "    for i in range(len(x)):\n",
    "        temp_taylor.append(x[i])"
   ]
  },
  {
   "cell_type": "markdown",
   "metadata": {},
   "source": [
    "# Visuals (5 points)\n",
    "\n",
    "* Make a bar plot show the most frequent 50 words and how many times they appear"
   ]
  },
  {
   "cell_type": "code",
   "execution_count": 40,
   "metadata": {},
   "outputs": [
    {
     "name": "stdout",
     "output_type": "stream",
     "text": [
      "53381\n",
      "3102\n"
     ]
    },
    {
     "data": {
      "text/plain": [
       "Text(0,0.5,'Frequency')"
      ]
     },
     "execution_count": 40,
     "metadata": {},
     "output_type": "execute_result"
    },
    {
     "data": {
      "image/png": "[encoded data removed]",
      "text/plain": [
       "<Figure size 432x288 with 1 Axes>"
      ]
     },
     "metadata": {
      "needs_background": "light"
     },
     "output_type": "display_data"
    }
   ],
   "source": [
    "unique_dict = unique(lower_taylor_lis)\n",
    "word_freq = Counter(temp_taylor)\n",
    "temp_top50 = []\n",
    "top50 = []\n",
    "sorted_word = sorted(word_freq.items(), key=operator.itemgetter(1), reverse=True)\n",
    "\n",
    "sum = 0\n",
    "for x in line_count:\n",
    "    sum += x\n",
    "print(sum)\n",
    "print(len(unique_dict))\n",
    "\n",
    "for key, value in sorted_word:\n",
    "    temp_top50.append([key, value])\n",
    "\n",
    "for x in range(1, 51):\n",
    "    top50.append(temp_top50[x])\n",
    "\n",
    "labels=[]\n",
    "count=[]\n",
    "for x in top50:\n",
    "    labels.append(x[0])\n",
    "    count.append(x[1])\n",
    "\n",
    "plt.bar(labels, count)\n",
    "plt.xlabel(\"Word\")\n",
    "plt.ylabel(\"Frequency\")"
   ]
  },
  {
   "cell_type": "code",
   "execution_count": 41,
   "metadata": {},
   "outputs": [
    {
     "name": "stdout",
     "output_type": "stream",
     "text": [
      "i:2255\n",
      "the:1665\n",
      "and:1634\n",
      "to:1030\n",
      "a:931\n",
      "me:895\n",
      "it:699\n",
      "in:676\n",
      "my:558\n",
      "that:520\n",
      "your:488\n",
      "on:481\n",
      "all:450\n",
      "but:436\n",
      "of:433\n",
      "know:407\n",
      "i'm:405\n",
      "don't:401\n",
      "we:390\n",
      "be:390\n",
      "was:374\n",
      "like:370\n",
      "is:363\n",
      "when:354\n",
      "oh:353\n",
      "this:352\n",
      "so:335\n",
      "just:318\n",
      "now:313\n",
      "love:300\n",
      ":298\n",
      "never:288\n",
      "what:285\n",
      "back:282\n",
      "you're:277\n",
      "for:268\n",
      "it's:263\n",
      "up:261\n",
      "with:245\n",
      "got:225\n",
      "out:216\n",
      "baby:209\n",
      "at:205\n",
      "say:204\n",
      "time:202\n",
      "do:202\n",
      "if:200\n",
      "see:195\n",
      "down:194\n",
      "come:186\n"
     ]
    }
   ],
   "source": [
    "for x in range(len(labels)):\n",
    "    print(labels[x] + \":\" + str(count[x]))\n"
   ]
  },
  {
   "cell_type": "markdown",
   "metadata": {},
   "source": [
    "# Part 1: Recurrent Neural Networks\n",
    "---\n",
    "* Build an RNN"
   ]
  },
  {
   "cell_type": "code",
   "execution_count": 42,
   "metadata": {},
   "outputs": [],
   "source": [
    "num_taylor = []\n",
    "num_taylor_sent = []\n",
    "\n",
    "for lis in lower_taylor_lis:\n",
    "    for temp in lis:\n",
    "        for index in range(len(unique_dict)):\n",
    "            if(temp == unique_dict[index][0]):\n",
    "                num_taylor_sent.append(unique_dict[index][1])\n",
    "    num_taylor.append(num_taylor_sent)\n",
    "    num_taylor_sent = []"
   ]
  },
  {
   "cell_type": "code",
   "execution_count": 43,
   "metadata": {},
   "outputs": [
    {
     "data": {
      "text/plain": [
       "<matplotlib.axes._subplots.AxesSubplot at 0x1864ed0bf28>"
      ]
     },
     "execution_count": 43,
     "metadata": {},
     "output_type": "execute_result"
    },
    {
     "data": {
      "image/png": "[encoded data removed]",
      "text/plain": [
       "<Figure size 432x288 with 1 Axes>"
      ]
     },
     "metadata": {
      "needs_background": "light"
     },
     "output_type": "display_data"
    }
   ],
   "source": [
    "sns.distplot(line_count)"
   ]
  },
  {
   "cell_type": "code",
   "execution_count": 44,
   "metadata": {},
   "outputs": [
    {
     "name": "stdout",
     "output_type": "stream",
     "text": [
      "True\n"
     ]
    }
   ],
   "source": [
    "line_average = 8 #obtained from distribution plot above\n",
    "fin_num_taylor = []\n",
    "\n",
    "for lis in num_taylor:\n",
    "    #print(lis)\n",
    "    temp_storage = []\n",
    "    if(len(lis) < line_average):\n",
    "        variation = line_average - len(lis)\n",
    "        while(variation > 0):\n",
    "            temp_storage.append(0)\n",
    "            variation -= 1\n",
    "        for x in range(len(lis)):\n",
    "            temp_storage.append(lis[x])\n",
    "        fin_num_taylor.append(temp_storage)\n",
    "    elif(len(lis) > line_average):\n",
    "        variation = len(lis) - line_average\n",
    "        for x in range(len(lis) - variation):\n",
    "            temp_storage.append(lis[x])\n",
    "        fin_num_taylor.append(temp_storage)\n",
    "    else:\n",
    "        temp_storage.append(lis)\n",
    "        fin_num_taylor.append(lis)\n",
    "\n",
    "#print(fin_num_taylor)\n",
    "temp_line_avg = 0\n",
    "for x in fin_num_taylor:\n",
    "    temp_line_avg += len(x)\n",
    "\n",
    "temp_line_avg = temp_line_avg / len(fin_num_taylor)\n",
    "print(temp_line_avg == line_average)"
   ]
  },
  {
   "cell_type": "code",
   "execution_count": 45,
   "metadata": {},
   "outputs": [
    {
     "name": "stdout",
     "output_type": "stream",
     "text": [
      "7112\n",
      "7112\n",
      "791\n",
      "791\n"
     ]
    },
    {
     "data": {
      "text/plain": [
       "(None, None)"
      ]
     },
     "execution_count": 45,
     "metadata": {},
     "output_type": "execute_result"
    }
   ],
   "source": [
    "train_set = []\n",
    "val_set = []\n",
    "\n",
    "split = int(0.9 * len(fin_num_taylor))\n",
    "counter = 0\n",
    "\n",
    "#Creating the training and validation sets\n",
    "for x in range(len(fin_num_taylor)):\n",
    "    train_set.append(fin_num_taylor[x])\n",
    "    counter += 1\n",
    "    if(counter == split):\n",
    "        break\n",
    "for x in range(split, len(fin_num_taylor)):\n",
    "    val_set.append(fin_num_taylor[x])\n",
    "\n",
    "print(len(train_set)), print(split)\n",
    "print(len(val_set)), print(len(fin_num_taylor) - split)"
   ]
  },
  {
   "cell_type": "code",
   "execution_count": 46,
   "metadata": {},
   "outputs": [
    {
     "name": "stdout",
     "output_type": "stream",
     "text": [
      "_________________________________________________________________\n",
      "Layer (type)                 Output Shape              Param #   \n",
      "=================================================================\n",
      "embedding_2 (Embedding)      (None, 8, 128)            397056    \n",
      "_________________________________________________________________\n",
      "lstm_4 (LSTM)                (None, 8, 256)            394240    \n",
      "_________________________________________________________________\n",
      "dense_6 (Dense)              (None, 8, 3102)           797214    \n",
      "=================================================================\n",
      "Total params: 1,588,510\n",
      "Trainable params: 1,588,510\n",
      "Non-trainable params: 0\n",
      "_________________________________________________________________\n"
     ]
    }
   ],
   "source": [
    "vocab = len(unique_dict)\n",
    "\n",
    "model = Sequential()\n",
    "model.add(Embedding(vocab, 128, input_length=line_average))\n",
    "model.add(LSTM(256, return_sequences=True))\n",
    "model.add(Dense(vocab, activation='softmax'))\n",
    "\n",
    "model.compile(loss='categorical_crossentropy', optimizer='sgd', metrics=['accuracy'])\n",
    "model.summary()"
   ]
  },
  {
   "cell_type": "markdown",
   "metadata": {},
   "source": [
    "### Train\n",
    "* You should have a training set and validation set\n",
    "* Obviously the data in the training set cannot appear in the validation set\n",
    "* Process the data so words are given numeric IDs\n",
    "    * This is necessary for the embedding layer\n",
    "    "
   ]
  },
  {
   "cell_type": "code",
   "execution_count": 47,
   "metadata": {},
   "outputs": [],
   "source": [
    "training = []\n",
    "testing = []\n",
    "for x in train_set:\n",
    "    for y in x:\n",
    "        training.append(y)\n",
    "for x in val_set:\n",
    "    for y in x:\n",
    "        testing.append(y)\n",
    "\n",
    "#I don't understand why the index is out of range\n",
    "np_train = np.asarray(train_set)\n",
    "np_val = np.asarray(val_set)\n",
    "np_test = to_categorical(np_train, num_classes=vocab)"
   ]
  },
  {
   "cell_type": "code",
   "execution_count": 48,
   "metadata": {},
   "outputs": [
    {
     "name": "stdout",
     "output_type": "stream",
     "text": [
      "(7112, 8)\n",
      "(7112, 8, 3102)\n",
      "Epoch 1/25\n",
      "7112/7112 [==============================] - 21s 3ms/step - loss: 7.9726 - acc: 0.2241\n",
      "Epoch 2/25\n",
      "7112/7112 [==============================] - 15s 2ms/step - loss: 7.8354 - acc: 0.2289\n",
      "Epoch 3/25\n",
      "7112/7112 [==============================] - 15s 2ms/step - loss: 7.6944 - acc: 0.2289\n",
      "Epoch 4/25\n",
      "7112/7112 [==============================] - 15s 2ms/step - loss: 7.5445 - acc: 0.2289\n",
      "Epoch 5/25\n",
      "7112/7112 [==============================] - 15s 2ms/step - loss: 7.3752 - acc: 0.2289\n",
      "Epoch 6/25\n",
      "7112/7112 [==============================] - 15s 2ms/step - loss: 7.1643 - acc: 0.2289\n",
      "Epoch 7/25\n",
      "7112/7112 [==============================] - 15s 2ms/step - loss: 6.8787 - acc: 0.2289\n",
      "Epoch 8/25\n",
      "7112/7112 [==============================] - 15s 2ms/step - loss: 6.6189 - acc: 0.2289\n",
      "Epoch 9/25\n",
      "7112/7112 [==============================] - 15s 2ms/step - loss: 6.4587 - acc: 0.2289\n",
      "Epoch 10/25\n",
      "7112/7112 [==============================] - 15s 2ms/step - loss: 6.3253 - acc: 0.2289\n",
      "Epoch 11/25\n",
      "7112/7112 [==============================] - 15s 2ms/step - loss: 6.2094 - acc: 0.2289\n",
      "Epoch 12/25\n",
      "7112/7112 [==============================] - 15s 2ms/step - loss: 6.1060 - acc: 0.2289\n",
      "Epoch 13/25\n",
      "7112/7112 [==============================] - 15s 2ms/step - loss: 6.0080 - acc: 0.2289\n",
      "Epoch 14/25\n",
      "7112/7112 [==============================] - 16s 2ms/step - loss: 5.9075 - acc: 0.2304\n",
      "Epoch 15/25\n",
      "7112/7112 [==============================] - 15s 2ms/step - loss: 5.7998 - acc: 0.2376\n",
      "Epoch 16/25\n",
      "7112/7112 [==============================] - 16s 2ms/step - loss: 5.6925 - acc: 0.2463\n",
      "Epoch 17/25\n",
      "7112/7112 [==============================] - 15s 2ms/step - loss: 5.5965 - acc: 0.2485\n",
      "Epoch 18/25\n",
      "7112/7112 [==============================] - 16s 2ms/step - loss: 5.5130 - acc: 0.2514\n",
      "Epoch 19/25\n",
      "7112/7112 [==============================] - 15s 2ms/step - loss: 5.4390 - acc: 0.2520\n",
      "Epoch 20/25\n",
      "7112/7112 [==============================] - 16s 2ms/step - loss: 5.3716 - acc: 0.2520\n",
      "Epoch 21/25\n",
      "7112/7112 [==============================] - 16s 2ms/step - loss: 5.3102 - acc: 0.2521\n",
      "Epoch 22/25\n",
      "7112/7112 [==============================] - 16s 2ms/step - loss: 5.2541 - acc: 0.2536\n",
      "Epoch 23/25\n",
      "7112/7112 [==============================] - 16s 2ms/step - loss: 5.2032 - acc: 0.2545\n",
      "Epoch 24/25\n",
      "7112/7112 [==============================] - 16s 2ms/step - loss: 5.1575 - acc: 0.2550\n",
      "Epoch 25/25\n",
      "7112/7112 [==============================] - 16s 2ms/step - loss: 5.1167 - acc: 0.2550\n"
     ]
    },
    {
     "data": {
      "text/plain": [
       "<keras.callbacks.History at 0x1864c6e8a90>"
      ]
     },
     "execution_count": 48,
     "metadata": {},
     "output_type": "execute_result"
    }
   ],
   "source": [
    "print(np_train.shape), print(np_test.shape)\n",
    "model.fit(np_train, np_test, epochs=25)"
   ]
  },
  {
   "cell_type": "markdown",
   "metadata": {},
   "source": [
    "### Generate sample sequence\n",
    "* Start with random input word and pass the output from one time step back into the network at the next until you have a full sentence\n",
    "* Show what this sentence is \n",
    "* You need to decode the softmax scores back to their word IDs and show the actual words\n"
   ]
  },
  {
   "cell_type": "code",
   "execution_count": 50,
   "metadata": {},
   "outputs": [
    {
     "data": {
      "text/plain": [
       "array([[[3.63655649e-02, 4.10476874e-04, 3.93883500e-04, ...,\n",
       "         2.92970333e-04, 2.89421558e-04, 3.11744836e-04],\n",
       "        [3.07664536e-02, 4.98431735e-04, 4.72853280e-04, ...,\n",
       "         2.76653358e-04, 2.70652759e-04, 3.14513949e-04],\n",
       "        [2.14269757e-02, 6.11840282e-04, 5.71404235e-04, ...,\n",
       "         2.50519020e-04, 2.44136012e-04, 3.07217153e-04],\n",
       "        ...,\n",
       "        [7.73171836e-04, 8.13395891e-04, 7.53998291e-04, ...,\n",
       "         1.64721932e-04, 1.68601502e-04, 2.41615562e-04],\n",
       "        [3.77493736e-04, 8.22311558e-04, 7.64547265e-04, ...,\n",
       "         1.47121784e-04, 1.52441047e-04, 2.22033414e-04],\n",
       "        [2.36378764e-04, 8.23470065e-04, 7.66098790e-04, ...,\n",
       "         1.34722519e-04, 1.41564145e-04, 2.07662277e-04]],\n",
       "\n",
       "       [[3.00062504e-02, 4.11394867e-04, 3.94174276e-04, ...,\n",
       "         2.96481128e-04, 2.92204058e-04, 3.12706718e-04],\n",
       "        [2.56933440e-02, 4.97264205e-04, 4.70773521e-04, ...,\n",
       "         2.79305445e-04, 2.74399295e-04, 3.16070131e-04],\n",
       "        [1.38739245e-02, 6.06871210e-04, 5.69230411e-04, ...,\n",
       "         2.56521278e-04, 2.52664497e-04, 3.12768796e-04],\n",
       "        ...,\n",
       "        [8.24878458e-04, 8.11156002e-04, 7.54043052e-04, ...,\n",
       "         1.68289160e-04, 1.72271466e-04, 2.44791998e-04],\n",
       "        [4.22798417e-04, 8.21247464e-04, 7.62182579e-04, ...,\n",
       "         1.48970794e-04, 1.54352863e-04, 2.24073767e-04],\n",
       "        [2.51707825e-04, 8.22525646e-04, 7.65505945e-04, ...,\n",
       "         1.36254341e-04, 1.42855090e-04, 2.09281978e-04]],\n",
       "\n",
       "       [[9.44702029e-01, 2.83493810e-05, 2.39637902e-05, ...,\n",
       "         1.52489547e-05, 1.42762965e-05, 1.71122883e-05],\n",
       "        [9.92971838e-01, 4.25511689e-06, 3.31558590e-06, ...,\n",
       "         1.41500868e-06, 1.26969451e-06, 1.72346608e-06],\n",
       "        [9.87724960e-01, 7.17974399e-06, 5.35447998e-06, ...,\n",
       "         1.60930631e-06, 1.44164596e-06, 2.08745882e-06],\n",
       "        ...,\n",
       "        [7.12314097e-04, 8.00612383e-04, 7.18192197e-04, ...,\n",
       "         1.23332633e-04, 1.28394022e-04, 1.91708590e-04],\n",
       "        [2.58100830e-04, 8.10086844e-04, 7.40618794e-04, ...,\n",
       "         1.19915043e-04, 1.26415878e-04, 1.88736609e-04],\n",
       "        [1.57387170e-04, 8.12623883e-04, 7.48402206e-04, ...,\n",
       "         1.16433701e-04, 1.24420942e-04, 1.85044875e-04]],\n",
       "\n",
       "       ...,\n",
       "\n",
       "       [[9.44702029e-01, 2.83493810e-05, 2.39637902e-05, ...,\n",
       "         1.52489547e-05, 1.42762965e-05, 1.71122883e-05],\n",
       "        [9.92971838e-01, 4.25511689e-06, 3.31558590e-06, ...,\n",
       "         1.41500868e-06, 1.26969451e-06, 1.72346608e-06],\n",
       "        [2.03633681e-01, 5.77887171e-04, 4.87676472e-04, ...,\n",
       "         1.47501749e-04, 1.39995755e-04, 1.96917565e-04],\n",
       "        ...,\n",
       "        [4.16523253e-04, 8.14173953e-04, 7.47704646e-04, ...,\n",
       "         1.32859670e-04, 1.38327610e-04, 2.05192729e-04],\n",
       "        [2.26378790e-04, 8.17367225e-04, 7.52617780e-04, ...,\n",
       "         1.25343431e-04, 1.32405665e-04, 1.96366527e-04],\n",
       "        [1.54462206e-04, 8.16297019e-04, 7.56815483e-04, ...,\n",
       "         1.19954027e-04, 1.27666412e-04, 1.90027917e-04]],\n",
       "\n",
       "       [[9.44702029e-01, 2.83493810e-05, 2.39637902e-05, ...,\n",
       "         1.52489547e-05, 1.42762965e-05, 1.71122883e-05],\n",
       "        [9.92971838e-01, 4.25511689e-06, 3.31558590e-06, ...,\n",
       "         1.41500868e-06, 1.26969451e-06, 1.72346608e-06],\n",
       "        [1.86838716e-01, 5.91119751e-04, 5.00803289e-04, ...,\n",
       "         1.51914515e-04, 1.44247766e-04, 2.02353418e-04],\n",
       "        ...,\n",
       "        [3.93956288e-04, 8.13902938e-04, 7.46436417e-04, ...,\n",
       "         1.32740111e-04, 1.38626056e-04, 2.05170712e-04],\n",
       "        [3.45732085e-04, 8.05596006e-04, 7.33107678e-04, ...,\n",
       "         1.20454417e-04, 1.27146312e-04, 1.89414932e-04],\n",
       "        [1.75759778e-04, 8.13441642e-04, 7.48316001e-04, ...,\n",
       "         1.18079741e-04, 1.25955514e-04, 1.87626443e-04]],\n",
       "\n",
       "       [[9.44702029e-01, 2.83493810e-05, 2.39637902e-05, ...,\n",
       "         1.52489547e-05, 1.42762965e-05, 1.71122883e-05],\n",
       "        [9.92971838e-01, 4.25511689e-06, 3.31558590e-06, ...,\n",
       "         1.41500868e-06, 1.26969451e-06, 1.72346608e-06],\n",
       "        [9.87724960e-01, 7.17974399e-06, 5.35447998e-06, ...,\n",
       "         1.60930631e-06, 1.44164596e-06, 2.08745882e-06],\n",
       "        ...,\n",
       "        [6.60680176e-04, 8.03287025e-04, 7.24131358e-04, ...,\n",
       "         1.24974555e-04, 1.30230517e-04, 1.93711923e-04],\n",
       "        [4.70945524e-04, 7.95855245e-04, 7.16725190e-04, ...,\n",
       "         1.14508759e-04, 1.20926903e-04, 1.80760471e-04],\n",
       "        [2.12944389e-04, 8.05393094e-04, 7.36537564e-04, ...,\n",
       "         1.13857401e-04, 1.21318291e-04, 1.81383410e-04]]], dtype=float32)"
      ]
     },
     "execution_count": 50,
     "metadata": {},
     "output_type": "execute_result"
    }
   ],
   "source": [
    "from random import randint\n",
    "\n",
    "predict = model.predict(np_train)\n",
    "predict"
   ]
  },
  {
   "cell_type": "code",
   "execution_count": 51,
   "metadata": {},
   "outputs": [],
   "source": [
    "predict.shape\n",
    "\n",
    "prediction_list = np.argmax(predict, axis=2)\n",
    "\n",
    "prediction_list.shape\n",
    "back_to_words = []\n",
    "for x in prediction_list:\n",
    "    storage = []\n",
    "    for y in x:\n",
    "        for temp in range(len(unique_dict)):\n",
    "            index = unique_dict[temp]\n",
    "            if(y == index[1]):\n",
    "                storage.append(index[0])\n",
    "    back_to_words.append(storage)"
   ]
  },
  {
   "cell_type": "code",
   "execution_count": 55,
   "metadata": {},
   "outputs": [
    {
     "name": "stdout",
     "output_type": "stream",
     "text": [
      "Predicted Sentece: you you you you you \n"
     ]
    }
   ],
   "source": [
    "randomindex = randint(0, len(prediction_list) - 1)\n",
    "back_to_words[randomindex]\n",
    "\n",
    "final_sent = \"\"\n",
    "for x in back_to_words[randomindex]:\n",
    "    final_sent += x + \" \"\n",
    "\n",
    "print(\"Predicted Sentece: \" + final_sent)"
   ]
  },
  {
   "cell_type": "markdown",
   "metadata": {},
   "source": [
    "# Part 2: Attention\n",
    "---\n",
    "* Build a recurrent model with attention over past hidden states"
   ]
  },
  {
   "cell_type": "code",
   "execution_count": 56,
   "metadata": {},
   "outputs": [
    {
     "name": "stdout",
     "output_type": "stream",
     "text": [
      "__________________________________________________________________________________________________\n",
      "Layer (type)                    Output Shape         Param #     Connected to                     \n",
      "==================================================================================================\n",
      "input_3 (InputLayer)            (None, 8, 1)         0                                            \n",
      "__________________________________________________________________________________________________\n",
      "lstm_5 (LSTM)                   (None, 8, 128)       66560       input_3[0][0]                    \n",
      "__________________________________________________________________________________________________\n",
      "dense_7 (Dense)                 (None, 8, 1)         129         lstm_5[0][0]                     \n",
      "__________________________________________________________________________________________________\n",
      "flatten_3 (Flatten)             (None, 8)            0           dense_7[0][0]                    \n",
      "__________________________________________________________________________________________________\n",
      "activation_3 (Activation)       (None, 8)            0           flatten_3[0][0]                  \n",
      "__________________________________________________________________________________________________\n",
      "repeat_vector_3 (RepeatVector)  (None, 128, 8)       0           activation_3[0][0]               \n",
      "__________________________________________________________________________________________________\n",
      "permute_3 (Permute)             (None, 8, 128)       0           repeat_vector_3[0][0]            \n",
      "__________________________________________________________________________________________________\n",
      "multiply_3 (Multiply)           (None, 8, 128)       0           lstm_5[0][0]                     \n",
      "                                                                 permute_3[0][0]                  \n",
      "__________________________________________________________________________________________________\n",
      "dense_8 (Dense)                 (None, 8, 3102)      400158      multiply_3[0][0]                 \n",
      "==================================================================================================\n",
      "Total params: 466,847\n",
      "Trainable params: 466,847\n",
      "Non-trainable params: 0\n",
      "__________________________________________________________________________________________________\n"
     ]
    }
   ],
   "source": [
    "#Taken from your github\n",
    "embedded = Input(shape=(8, 1))\n",
    "activations = LSTM(128, return_sequences=True)(embedded)\n",
    "attention = Dense(1, activation='tanh')(activations)\n",
    "attention = Flatten()(attention)\n",
    "attention = Activation('softmax')(attention)\n",
    "attention = RepeatVector(128)(attention)\n",
    "attention = Permute([2, 1])(attention)\n",
    "sent_representation = multiply([activations, attention])\n",
    "#3102 is the amount of words in my unique dictionary\n",
    "output = Dense(3102)(sent_representation)\n",
    "attn_model = Model(inputs=embedded, outputs=output)\n",
    "attn_model.compile(loss='mean_squared_error', optimizer='adam')\n",
    "attn_model.summary()"
   ]
  },
  {
   "cell_type": "markdown",
   "metadata": {},
   "source": [
    "### Train\n"
   ]
  },
  {
   "cell_type": "code",
   "execution_count": 58,
   "metadata": {},
   "outputs": [
    {
     "name": "stdout",
     "output_type": "stream",
     "text": [
      "Epoch 1/20\n",
      "7112/7112 [==============================] - 5s 705us/step - loss: 2.8268e-04\n",
      "Epoch 2/20\n",
      "7112/7112 [==============================] - 5s 689us/step - loss: 2.4331e-04\n",
      "Epoch 3/20\n",
      "7112/7112 [==============================] - 5s 685us/step - loss: 2.3191e-04\n",
      "Epoch 4/20\n",
      "7112/7112 [==============================] - 5s 683us/step - loss: 2.2736e-04\n",
      "Epoch 5/20\n",
      "7112/7112 [==============================] - 5s 682us/step - loss: 2.2471e-04\n",
      "Epoch 6/20\n",
      "7112/7112 [==============================] - 5s 684us/step - loss: 2.2263e-04\n",
      "Epoch 7/20\n",
      "7112/7112 [==============================] - 5s 680us/step - loss: 2.2091e-04\n",
      "Epoch 8/20\n",
      "7112/7112 [==============================] - 5s 685us/step - loss: 2.1945e-04\n",
      "Epoch 9/20\n",
      "7112/7112 [==============================] - 5s 679us/step - loss: 2.1793e-04\n",
      "Epoch 10/20\n",
      "7112/7112 [==============================] - 5s 677us/step - loss: 2.1651e-04\n",
      "Epoch 11/20\n",
      "7112/7112 [==============================] - 5s 683us/step - loss: 2.1519e-04\n",
      "Epoch 12/20\n",
      "7112/7112 [==============================] - 5s 666us/step - loss: 2.1397e-04\n",
      "Epoch 13/20\n",
      "7112/7112 [==============================] - 5s 667us/step - loss: 2.1287e-04\n",
      "Epoch 14/20\n",
      "7112/7112 [==============================] - 5s 673us/step - loss: 2.1188e-04\n",
      "Epoch 15/20\n",
      "7112/7112 [==============================] - 5s 675us/step - loss: 2.1095e-04\n",
      "Epoch 16/20\n",
      "7112/7112 [==============================] - 5s 670us/step - loss: 2.1013e-04\n",
      "Epoch 17/20\n",
      "7112/7112 [==============================] - 5s 672us/step - loss: 2.0932e-04\n",
      "Epoch 18/20\n",
      "7112/7112 [==============================] - 5s 704us/step - loss: 2.0867e-04\n",
      "Epoch 19/20\n",
      "7112/7112 [==============================] - 5s 693us/step - loss: 2.0805e-04\n",
      "Epoch 20/20\n",
      "7112/7112 [==============================] - 5s 689us/step - loss: 2.0744e-04\n"
     ]
    },
    {
     "data": {
      "text/plain": [
       "<keras.callbacks.History at 0x186527acbe0>"
      ]
     },
     "execution_count": 58,
     "metadata": {},
     "output_type": "execute_result"
    }
   ],
   "source": [
    "np_train = np_train.reshape((7112, 8, 1))\n",
    "attn_model.fit(np_train, np_test, epochs = 20)"
   ]
  },
  {
   "cell_type": "markdown",
   "metadata": {},
   "source": [
    "### Generate sample sequence\n",
    "* Start with random input word and pass the output from one time step back into the network at the next until you have a full sentence\n",
    "* Show what this sentence is \n",
    "* You need to decode the softmax scores back to their word IDs and show the actual words\n"
   ]
  },
  {
   "cell_type": "code",
   "execution_count": 59,
   "metadata": {},
   "outputs": [
    {
     "data": {
      "text/plain": [
       "array([[[ 4.40591156e-01,  6.12243190e-02,  2.87215300e-02, ...,\n",
       "         -2.52159662e-04, -9.07460693e-04, -1.00498623e-03],\n",
       "        [ 1.21836275e-01,  8.41256976e-02,  4.32458110e-02, ...,\n",
       "         -7.77947833e-04, -2.61683157e-03, -1.15188153e-03],\n",
       "        [ 4.21142280e-02,  6.92809671e-02,  3.63967083e-02, ...,\n",
       "         -9.67233093e-04, -2.68901419e-03, -1.41908636e-03],\n",
       "        ...,\n",
       "        [-6.53052330e-03,  1.66085698e-02,  8.97091627e-03, ...,\n",
       "          3.54619347e-04, -4.67299204e-03, -1.30035763e-03],\n",
       "        [ 1.39576942e-02,  1.07705072e-02,  1.11432113e-02, ...,\n",
       "          3.68739595e-04, -4.65173274e-03, -1.13108254e-05],\n",
       "        [ 3.41899842e-02,  8.67235474e-03,  1.45434067e-02, ...,\n",
       "          2.66318326e-04, -4.08074632e-03,  1.03115535e-03]],\n",
       "\n",
       "       [[-7.17951357e-02,  6.95763677e-02,  4.84496653e-02, ...,\n",
       "         -2.26973920e-04,  7.26777129e-04,  1.63903541e-03],\n",
       "        [-2.35661417e-02,  4.30150740e-02,  3.18807550e-02, ...,\n",
       "         -3.70354275e-04,  3.22175678e-04,  1.69311336e-03],\n",
       "        [ 3.22242677e-02,  2.17735413e-02,  2.44422406e-02, ...,\n",
       "         -7.43463053e-04, -5.46140596e-04,  1.57296227e-03],\n",
       "        ...,\n",
       "        [ 6.00630119e-02,  2.86096521e-03,  1.90011691e-02, ...,\n",
       "         -1.89087761e-03, -1.43508380e-03,  7.64155411e-04],\n",
       "        [ 4.04111147e-02, -3.00456211e-03,  1.30849369e-02, ...,\n",
       "         -2.61305366e-03, -9.58121382e-04,  8.04045354e-04],\n",
       "        [ 7.43295252e-03, -1.27018243e-02,  2.56100297e-03, ...,\n",
       "         -3.08657531e-03,  4.33317386e-04,  1.06597703e-03]],\n",
       "\n",
       "       [[ 9.16204453e-01,  4.11799178e-03,  4.35620546e-03, ...,\n",
       "         -2.15398046e-04,  3.49269336e-04,  1.29847089e-04],\n",
       "        [ 9.08394337e-01,  6.99668191e-03,  4.82508354e-03, ...,\n",
       "         -5.34834253e-05,  7.54051362e-05, -5.68575342e-06],\n",
       "        [ 9.07470703e-01,  8.39763321e-03,  4.95250337e-03, ...,\n",
       "          1.85697427e-05, -4.77203939e-05,  1.05471991e-05],\n",
       "        ...,\n",
       "        [-1.27216429e-02,  1.91340297e-02,  2.61783693e-02, ...,\n",
       "          3.20664723e-04, -1.93876680e-04, -2.05476768e-03],\n",
       "        [ 1.46520734e-02,  2.32036225e-03,  1.05673335e-02, ...,\n",
       "         -4.55985661e-04,  3.50745322e-05, -1.07560738e-03],\n",
       "        [ 1.13880336e-02,  3.45364958e-03,  1.10130012e-02, ...,\n",
       "         -1.32361788e-03,  3.64315696e-04, -4.77450812e-04]],\n",
       "\n",
       "       ...,\n",
       "\n",
       "       [[ 1.01659989e+00,  4.64774668e-04,  4.53293324e-05, ...,\n",
       "         -2.53462349e-04,  4.05081431e-04,  9.54491261e-05],\n",
       "        [ 1.00772643e+00,  3.73544917e-03,  5.78083098e-04, ...,\n",
       "         -6.95000781e-05,  9.39246893e-05, -5.85392409e-05],\n",
       "        [ 1.12158060e-02,  1.86708570e-03,  2.61558220e-03, ...,\n",
       "         -5.01060742e-04, -4.46473714e-04,  9.50317481e-04],\n",
       "        ...,\n",
       "        [-1.13087445e-02,  4.04130667e-04,  2.49962881e-03, ...,\n",
       "         -1.52174747e-04, -3.84077503e-05,  2.12706247e-04],\n",
       "        [ 8.00782442e-03,  1.03731789e-02,  9.05537792e-03, ...,\n",
       "         -5.04027470e-04,  5.86973969e-04, -1.19005475e-04],\n",
       "        [ 1.43431425e-02,  8.42986442e-03,  9.26375389e-03, ...,\n",
       "          2.87385774e-04, -1.87991653e-04,  1.81673648e-04]],\n",
       "\n",
       "       [[ 8.74308586e-01,  5.64252213e-03,  6.15515560e-03, ...,\n",
       "         -1.99513175e-04,  3.25978326e-04,  1.44201505e-04],\n",
       "        [ 8.66942286e-01,  8.35761428e-03,  6.59739599e-03, ...,\n",
       "         -4.68007202e-05,  6.76764976e-05,  1.63700024e-05],\n",
       "        [ 2.64025033e-02,  6.29839301e-03,  6.55564293e-03, ...,\n",
       "         -7.51739281e-05,  4.05345345e-04,  2.33006984e-04],\n",
       "        ...,\n",
       "        [ 1.57734007e-02,  4.85124439e-03,  7.22082332e-03, ...,\n",
       "         -8.82697350e-06,  1.01444537e-04,  2.63546535e-05],\n",
       "        [-5.01273572e-03, -6.67956099e-03, -5.07778674e-03, ...,\n",
       "         -4.76223300e-04, -1.25345215e-03,  6.34883472e-05],\n",
       "        [ 1.06793344e-02,  4.88733500e-03,  7.46323168e-03, ...,\n",
       "         -4.18126001e-04, -1.29447551e-04,  3.34333134e-04]],\n",
       "\n",
       "       [[ 9.84146118e-01,  1.64570287e-03,  1.43885985e-03, ...,\n",
       "         -2.41158312e-04,  3.87039676e-04,  1.06569001e-04],\n",
       "        [ 9.75616574e-01,  4.78970259e-03,  1.95097551e-03, ...,\n",
       "         -6.43221574e-05,  8.79379149e-05, -4.14541864e-05],\n",
       "        [ 9.74607944e-01,  6.31971844e-03,  2.09013373e-03, ...,\n",
       "          1.43708749e-05, -4.65337725e-05, -2.37250642e-05],\n",
       "        ...,\n",
       "        [ 7.19177723e-03,  6.17610291e-04,  1.10346451e-03, ...,\n",
       "         -3.81032354e-04, -9.26470457e-05,  6.94497430e-05],\n",
       "        [-2.17486769e-02, -9.70377773e-03, -9.38219205e-03, ...,\n",
       "         -1.99822607e-04, -6.14517368e-04, -5.66888019e-04],\n",
       "        [-8.08785856e-03,  2.41409428e-03,  4.81731817e-03, ...,\n",
       "         -3.08044371e-04, -9.15548371e-05,  9.53600684e-05]]],\n",
       "      dtype=float32)"
      ]
     },
     "execution_count": 59,
     "metadata": {},
     "output_type": "execute_result"
    }
   ],
   "source": [
    "attn_predict = attn_model.predict(np_train)\n",
    "attn_predict"
   ]
  },
  {
   "cell_type": "markdown",
   "metadata": {},
   "source": [
    "### Attention Visuals\n",
    "* Make a sample input sequence\n",
    "* Feed it to your network\n",
    "* Visualize the attention scores\n",
    "* It needs to look like [this](https://skymind.ai/images/wiki/attention_translation_grid.png)"
   ]
  },
  {
   "cell_type": "code",
   "execution_count": 60,
   "metadata": {},
   "outputs": [],
   "source": [
    "attention_list = np.argmax(attn_predict, axis=2)\n",
    "\n",
    "back_to_words_attn = []\n",
    "for x in attention_list:\n",
    "    storage = []\n",
    "    for y in x:\n",
    "        for temp in range(len(unique_dict)):\n",
    "            index = unique_dict[temp]\n",
    "            if(y == index[1]):\n",
    "                storage.append(index[0])\n",
    "    back_to_words_attn.append(storage)"
   ]
  },
  {
   "cell_type": "code",
   "execution_count": 64,
   "metadata": {},
   "outputs": [
    {
     "name": "stdout",
     "output_type": "stream",
     "text": [
      "Predicted Sentece: but this i don't me me don't \n"
     ]
    }
   ],
   "source": [
    "from random import randint\n",
    "\n",
    "random_index_attn = randint(0, len(attention_list) - 1)\n",
    "\n",
    "final_sent_attn = \"\"\n",
    "for x in back_to_words_attn[random_index_attn]:\n",
    "    final_sent_attn += x + \" \"\n",
    "\n",
    "print(\"Predicted Sentece: \" + final_sent_attn)"
   ]
  }
 ],
 "metadata": {
  "kernelspec": {
   "display_name": "Python 3",
   "language": "python",
   "name": "python3"
  },
  "language_info": {
   "codemirror_mode": {
    "name": "ipython",
    "version": 3
   },
   "file_extension": ".py",
   "mimetype": "text/x-python",
   "name": "python",
   "nbconvert_exporter": "python",
   "pygments_lexer": "ipython3",
   "version": "3.8.3"
  }
 },
 "nbformat": 4,
 "nbformat_minor": 2
}
