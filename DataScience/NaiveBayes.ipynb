{
 "cells": [
  {
   "cell_type": "markdown",
   "metadata": {},
   "source": [
    "# Naive Bayes"
   ]
  },
  {
   "cell_type": "code",
   "execution_count": 4,
   "metadata": {},
   "outputs": [],
   "source": [
    "import pandas as pd"
   ]
  },
  {
   "cell_type": "markdown",
   "metadata": {},
   "source": [
    "In order to reduce my email load, I decide to implement a machine learning algorithm to decide whether or not I should read an email, or simply file it away instead. To train my model, I obtain the following data set of binary-valued features about each email, including whether I know the author or not, whether the email is long or short, and whether it has any of several key words, along with my final decision about whether to read it ( y = +1 for “read”, y = -1 for “discard”)."
   ]
  },
  {
   "cell_type": "code",
   "execution_count": 2,
   "metadata": {},
   "outputs": [
    {
     "data": {
      "text/html": [
       "<div>\n",
       "<style scoped>\n",
       "    .dataframe tbody tr th:only-of-type {\n",
       "        vertical-align: middle;\n",
       "    }\n",
       "\n",
       "    .dataframe tbody tr th {\n",
       "        vertical-align: top;\n",
       "    }\n",
       "\n",
       "    .dataframe thead th {\n",
       "        text-align: right;\n",
       "    }\n",
       "</style>\n",
       "<table border=\"1\" class=\"dataframe\">\n",
       "  <thead>\n",
       "    <tr style=\"text-align: right;\">\n",
       "      <th></th>\n",
       "      <th>author</th>\n",
       "      <th>long</th>\n",
       "      <th>research</th>\n",
       "      <th>grade</th>\n",
       "      <th>lottery</th>\n",
       "      <th>read</th>\n",
       "    </tr>\n",
       "  </thead>\n",
       "  <tbody>\n",
       "    <tr>\n",
       "      <th>0</th>\n",
       "      <td>0</td>\n",
       "      <td>0</td>\n",
       "      <td>1</td>\n",
       "      <td>1</td>\n",
       "      <td>0</td>\n",
       "      <td>-1</td>\n",
       "    </tr>\n",
       "    <tr>\n",
       "      <th>1</th>\n",
       "      <td>1</td>\n",
       "      <td>1</td>\n",
       "      <td>0</td>\n",
       "      <td>1</td>\n",
       "      <td>0</td>\n",
       "      <td>-1</td>\n",
       "    </tr>\n",
       "    <tr>\n",
       "      <th>2</th>\n",
       "      <td>0</td>\n",
       "      <td>1</td>\n",
       "      <td>1</td>\n",
       "      <td>1</td>\n",
       "      <td>1</td>\n",
       "      <td>-1</td>\n",
       "    </tr>\n",
       "    <tr>\n",
       "      <th>3</th>\n",
       "      <td>1</td>\n",
       "      <td>1</td>\n",
       "      <td>1</td>\n",
       "      <td>1</td>\n",
       "      <td>0</td>\n",
       "      <td>-1</td>\n",
       "    </tr>\n",
       "    <tr>\n",
       "      <th>4</th>\n",
       "      <td>0</td>\n",
       "      <td>1</td>\n",
       "      <td>0</td>\n",
       "      <td>0</td>\n",
       "      <td>0</td>\n",
       "      <td>-1</td>\n",
       "    </tr>\n",
       "    <tr>\n",
       "      <th>5</th>\n",
       "      <td>1</td>\n",
       "      <td>0</td>\n",
       "      <td>1</td>\n",
       "      <td>1</td>\n",
       "      <td>1</td>\n",
       "      <td>1</td>\n",
       "    </tr>\n",
       "    <tr>\n",
       "      <th>6</th>\n",
       "      <td>0</td>\n",
       "      <td>0</td>\n",
       "      <td>1</td>\n",
       "      <td>0</td>\n",
       "      <td>0</td>\n",
       "      <td>1</td>\n",
       "    </tr>\n",
       "    <tr>\n",
       "      <th>7</th>\n",
       "      <td>1</td>\n",
       "      <td>0</td>\n",
       "      <td>0</td>\n",
       "      <td>0</td>\n",
       "      <td>0</td>\n",
       "      <td>1</td>\n",
       "    </tr>\n",
       "    <tr>\n",
       "      <th>8</th>\n",
       "      <td>1</td>\n",
       "      <td>0</td>\n",
       "      <td>1</td>\n",
       "      <td>1</td>\n",
       "      <td>0</td>\n",
       "      <td>1</td>\n",
       "    </tr>\n",
       "    <tr>\n",
       "      <th>9</th>\n",
       "      <td>1</td>\n",
       "      <td>1</td>\n",
       "      <td>1</td>\n",
       "      <td>1</td>\n",
       "      <td>1</td>\n",
       "      <td>-1</td>\n",
       "    </tr>\n",
       "  </tbody>\n",
       "</table>\n",
       "</div>"
      ],
      "text/plain": [
       "   author  long  research  grade  lottery  read\n",
       "0       0     0         1      1        0    -1\n",
       "1       1     1         0      1        0    -1\n",
       "2       0     1         1      1        1    -1\n",
       "3       1     1         1      1        0    -1\n",
       "4       0     1         0      0        0    -1\n",
       "5       1     0         1      1        1     1\n",
       "6       0     0         1      0        0     1\n",
       "7       1     0         0      0        0     1\n",
       "8       1     0         1      1        0     1\n",
       "9       1     1         1      1        1    -1"
      ]
     },
     "execution_count": 2,
     "metadata": {},
     "output_type": "execute_result"
    }
   ],
   "source": [
    "D = [[0,0,1,1,0,-1],[1,1,0,1,0,-1],[0,1,1,1,1,-1],[1,1,1,1,0,-1],[0,1,0,0,0,-1],[1,0,1,1,1,1],[0,0,1,0,0,1],[1,0,0,0,0,1],[1,0,1,1,0,1],[1,1,1,1,1,-1]]\n",
    "df = pd.DataFrame(data=D, columns=['author','long','research','grade','lottery','read'])\n",
    "\n",
    "df"
   ]
  },
  {
   "cell_type": "markdown",
   "metadata": {},
   "source": [
    "\n",
    "In the case of any ties, we will prefer to predict class +1. I decide to try a naïve Bayes classifier to make my decisions and compute my uncertainty.\n",
    "\n",
    "#### Q: Compute all the probabilities necessary for a naïve Bayes classifier, i.e., the class probability p( y) and all the individual feature probabilities p(xi j y), for each class y and feature xi"
   ]
  },
  {
   "cell_type": "markdown",
   "metadata": {},
   "source": [
    "P(author) = 6/10  \n",
    "P(no author) = 4/10  \n",
    "P(author|read) = 3/4  \n",
    "P(author|not read) = 3/6  \n",
    "P(no author|read) = 1/4   \n",
    "P(no author|not read) = 3/6   \n",
    "\n",
    "P(long) = 5/10   \n",
    "P(not long) = 5/10   \n",
    "P(long|read) = 0/4   \n",
    "P(long|not read) = 5/6   \n",
    "P(not long|read) = 4/4    \n",
    "P(not long|not read) = 1/6   \n",
    "\n",
    "P(research) = 7/10   \n",
    "P(no research) = 3/10    \n",
    "P(research|read) = 3/4     \n",
    "P(research|not read) = 4/6      \n",
    "P(no research|read) = 1/4     \n",
    "P(no research|not read) = 2/6    \n",
    "\n",
    "P(grade) = 7/10    \n",
    "P(no grade) = 3/10    \n",
    "P(grade|read) = 2/4   \n",
    "P(grade|not read) = 5/6   \n",
    "P(not grade|read) = 2/4     \n",
    "P(not grade|not read) = 1/6    \n",
    "\n",
    "P(lottery) = 3/10    \n",
    "P(no lottery) = 7/10    \n",
    "P(lottery|read) = 1/4      \n",
    "P(lottery|not read) = 2/6   \n",
    "P(no lottery|read) = 3/4     \n",
    "P(no lottery|not read) = 4/6      \n",
    "\n",
    "P(read) = 4/10      \n",
    "P(not read) = 6/10      "
   ]
  },
  {
   "cell_type": "markdown",
   "metadata": {},
   "source": [
    "#### Q: Which class would be predicted for x = (0 0 0 0 0)? What about for x = (1 1 0 1 0)?\n",
    "\n"
   ]
  },
  {
   "cell_type": "markdown",
   "metadata": {},
   "source": [
    "**x = (0,0,0,0,0)**     \n",
    "**P(read|0,0,0,0,0) = P(read)P(no author|read)P(no long|read)P(no research|read)P(no grade|read)P(no lottery|read)**  \n",
    "                  = (4/10)(1/4)(4/4)(1/4)(2/4)(3/4)  \n",
    "                  = (96/10,240)   \n",
    "                  = 0.009375  \n",
    "\n",
    "**P(not read|0,0,0,0,0) = P(not read)P(no author|not read)P(not long|not read)P(no research|not read)P(no grade|not read)P(no lottery|not read)**   \n",
    "                     = (6/10)(3/6)(1/6)(2/6)(1/6)(4/6)    \n",
    "                     = (144/77,760)    \n",
    "                     = 0.00185185   \n",
    "\n",
    "**Because the predicted value for read given that the features were all 0 was higher than the predicted value for not read, the predicted class would be read.**"
   ]
  },
  {
   "cell_type": "markdown",
   "metadata": {},
   "source": [
    "\n",
    "**x = (1,1,0,1,0)**    \n",
    "**P(read|1,1,0,1,0) = P(read)P(author|read)P(long|read)P(no research|read)P(grade|read)P(no lottery|read)**      \n",
    "                  = (4/10)(3/4)(0/4)(1/4)(2/4)(3/4)     \n",
    "                  = (0/10,240)    \n",
    "                  = 0     \n",
    "                  \n",
    "**P(not read|1,1,0,1,0) = P(not read)P(author|not read)P(long|not read)P(no research|not read)P(grade|not read)P(no lottery|not read)**   \n",
    "                      = (6/10)(3/6)(5/6)(2/6)(5/6)(4/6)   \n",
    "                      = (3,600/77,760)    \n",
    "                      = 0.04629     \n",
    "                      \n",
    "**Because the predicted value for read is zero, while the predicted value for not read is 0.046, the predicted class for these given features is not read**"
   ]
  },
  {
   "cell_type": "markdown",
   "metadata": {},
   "source": [
    "#### Q: Compute the posterior probability that y = +1 given the observation x = (1 1 0 1 0).\n",
    "\n"
   ]
  },
  {
   "cell_type": "markdown",
   "metadata": {},
   "source": [
    "Because the numerator of the operation, which is the predicted class value using the same features, is equal to 0, the posterior probability that y = 1 is also 0"
   ]
  },
  {
   "cell_type": "markdown",
   "metadata": {},
   "source": [
    "#### Q: Why should we probably not use a “joint” Bayes classifier (using the joint probability of the features x, as opposed to a naïve Bayes classifier) for these data?\n",
    "\n"
   ]
  },
  {
   "cell_type": "markdown",
   "metadata": {},
   "source": [
    "We should not use a joint Bayes classifier for these datasets because a joint probability problem would require 32 equations; whereas, a Naive Bayes probability would only take 10 equations because since you assume conditional independence, the amount of equations is the feature possibilites added instead of multiplying them."
   ]
  },
  {
   "cell_type": "markdown",
   "metadata": {},
   "source": [
    "#### Q: Suppose that, before we make our predictions, we lose access to my address book, so that we cannot tell whether the email author is known. Should we re-train the model, and if so, how? (e.g.: how does the model, and its parameters, change in this new situation?) Hint: what will the naïve Bayes model over only features x2 . . . x5 look like, and what will its parameters be?\n",
    "\n"
   ]
  },
  {
   "cell_type": "markdown",
   "metadata": {},
   "source": [
    "What you would have to do is re-train the model, but just ommit the author feature while keeping the other 4 features. Since the other features are still fine, the only feature that isn't working the same is author, sot he model needs to be re-trained without the author feature."
   ]
  },
  {
   "cell_type": "markdown",
   "metadata": {},
   "source": [
    "## 2. Statement of Collaboration"
   ]
  },
  {
   "cell_type": "markdown",
   "metadata": {},
   "source": [
    "#### a. Whom I worked with?"
   ]
  },
  {
   "cell_type": "markdown",
   "metadata": {},
   "source": [
    "I mainly just worked with Tucker, Kolby and Matt on this lab, but I did most of it on my own"
   ]
  },
  {
   "cell_type": "markdown",
   "metadata": {},
   "source": [
    "## 3. Extra Credit"
   ]
  },
  {
   "cell_type": "markdown",
   "metadata": {},
   "source": [
    "#### a. Frequentist vs. Bayesian Argument"
   ]
  },
  {
   "cell_type": "markdown",
   "metadata": {},
   "source": [
    "Frequentist school only uses conditional distrubtions when given specific data. A frequentist believes probabilites represent long run frequencies in whihc events occur. Bayesian probability is more an indication of the plausability of a proposition or a situation."
   ]
  },
  {
   "cell_type": "markdown",
   "metadata": {},
   "source": [
    "I agree with the Bayesian side of the argument because I think that probability represents a plausability, rather than an event occurence. "
   ]
  },
  {
   "cell_type": "code",
   "execution_count": null,
   "metadata": {},
   "outputs": [],
   "source": []
  }
 ],
 "metadata": {
  "kernelspec": {
   "display_name": "Python 3",
   "language": "python",
   "name": "python3"
  },
  "language_info": {
   "codemirror_mode": {
    "name": "ipython",
    "version": 3
   },
   "file_extension": ".py",
   "mimetype": "text/x-python",
   "name": "python",
   "nbconvert_exporter": "python",
   "pygments_lexer": "ipython3",
   "version": "3.6.8"
  }
 },
 "nbformat": 4,
 "nbformat_minor": 2
}
