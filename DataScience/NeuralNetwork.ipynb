{
 "cells": [
  {
   "cell_type": "markdown",
   "metadata": {},
   "source": [
    "# Neural Network"
   ]
  },
  {
   "cell_type": "markdown",
   "metadata": {},
   "source": [
    "This lab uses the MNIST dataset and it is imported using Keras. \n",
    "      \n",
    "The [github](https://github.com/jordanott/CPSC392/blob/master/Notebooks/Neural%20Networks.ipynb) repository of the notebook that was used to help.      \n",
    "      \n",
    "The [instructions](https://docs.google.com/document/d/1xAIvqCtkxm40Y-8vdJCuIKyiy0hKztkZTz2M7FRSP5w/edit) for the lab. [This](https://github.com/jordanott/CPSC392/blob/master/Labs/NeuralNetworks.ipynb) is where the lab actually is.       \n",
    "\n",
    "---"
   ]
  },
  {
   "cell_type": "code",
   "execution_count": null,
   "metadata": {},
   "outputs": [],
   "source": [
    "import keras\n",
    "import numpy as np\n",
    "import matplotlib.pyplot as plt\n",
    "from keras.datasets import mnist\n",
    "\n",
    "np.random.seed(0)"
   ]
  },
  {
   "cell_type": "markdown",
   "metadata": {},
   "source": [
    "### Loading MNIST Dataset"
   ]
  },
  {
   "cell_type": "code",
   "execution_count": 3,
   "metadata": {},
   "outputs": [
    {
     "data": {
      "image/png": "[encoded data removed]",
      "text/plain": [
       "<Figure size 1080x720 with 9 Axes>"
      ]
     },
     "metadata": {
      "needs_background": "light"
     },
     "output_type": "display_data"
    }
   ],
   "source": [
    "(x_train, y_train), (x_test, y_test) = mnist.load_data()\n",
    "\n",
    "plt.figure(figsize=(15,10))\n",
    "for i in range(9):\n",
    "    plt.subplot(3,3,i+1)\n",
    "    plt.imshow(x_train[i], cmap='gray', interpolation='none')\n",
    "    plt.title(\"Class {}\".format(y_train[i]))\n",
    "plt.show()"
   ]
  },
  {
   "cell_type": "code",
   "execution_count": 45,
   "metadata": {},
   "outputs": [],
   "source": [
    "\n",
    "def show_img(img, label):\n",
    "    img = img.reshape(28,28)\n",
    "    \n",
    "    plt.figure(figsize=(15,5))\n",
    "    plt.subplot(1, 2, 1)\n",
    "    plt.imshow(img, cmap='gray')\n",
    "    \n",
    "    if type(label) == np.uint8:\n",
    "        zeros = np.zeros(10)\n",
    "        zeros[label] = 1\n",
    "        label = zeros\n",
    "    \n",
    "    plt.subplot(1, 2, 2)\n",
    "    plt.bar(np.arange(10), label, tick_label=np.arange(10))\n",
    "    plt.show()"
   ]
  },
  {
   "cell_type": "markdown",
   "metadata": {},
   "source": [
    "### Show Image"
   ]
  },
  {
   "cell_type": "code",
   "execution_count": 46,
   "metadata": {},
   "outputs": [
    {
     "data": {
      "text/plain": [
       "((60000, 28, 28), (60000,))"
      ]
     },
     "execution_count": 46,
     "metadata": {},
     "output_type": "execute_result"
    }
   ],
   "source": [
    "X = x_train; Y = y_train\n",
    "zeros = np.zeros(10); zeros[Y] = 1\n",
    "\n",
    "X.shape, Y.shape"
   ]
  },
  {
   "cell_type": "markdown",
   "metadata": {},
   "source": [
    "## Forward pass for a single example\n",
    "Here we implement the forward pass for the network using the single example, $X$, from above"
   ]
  },
  {
   "cell_type": "markdown",
   "metadata": {},
   "source": [
    "#### Initialize weights"
   ]
  },
  {
   "cell_type": "code",
   "execution_count": 47,
   "metadata": {},
   "outputs": [],
   "source": [
    "X = X.reshape(60000, 784)"
   ]
  },
  {
   "cell_type": "code",
   "execution_count": 48,
   "metadata": {},
   "outputs": [],
   "source": [
    "W1 = np.random.randn(784,10)# create weights for the first layer\n",
    "W2 = np.random.randn(10, 1)# create weights for the second layer"
   ]
  },
  {
   "cell_type": "markdown",
   "metadata": {},
   "source": [
    "#### First layer activations"
   ]
  },
  {
   "cell_type": "code",
   "execution_count": 49,
   "metadata": {},
   "outputs": [
    {
     "data": {
      "text/plain": [
       "(60000, 10)"
      ]
     },
     "execution_count": 49,
     "metadata": {},
     "output_type": "execute_result"
    }
   ],
   "source": [
    "Z1 = np.dot(X, W1)\n",
    "\n",
    "def relu(z):\n",
    "    return z * (z > 0)\n",
    "\n",
    "X2 = relu(Z1)\n",
    "L1 = X2\n",
    "X2.shape"
   ]
  },
  {
   "cell_type": "markdown",
   "metadata": {},
   "source": [
    "#### Second layer activations"
   ]
  },
  {
   "cell_type": "code",
   "execution_count": 50,
   "metadata": {},
   "outputs": [
    {
     "data": {
      "text/plain": [
       "((60000, 1), (60000,))"
      ]
     },
     "execution_count": 50,
     "metadata": {},
     "output_type": "execute_result"
    }
   ],
   "source": [
    "def softmax(z):\n",
    "    # subracting the max adds numerical stability\n",
    "    shiftx = z - np.max(z,axis=1)[:,np.newaxis]\n",
    "    exps = np.exp(shiftx)\n",
    "    return exps / np.sum(exps,axis=1)[:,np.newaxis]\n",
    "\n",
    "Z2 = np.dot(X2, W2)\n",
    "\n",
    "Y_hat = softmax(Z2)\n",
    "Y_hat.shape, Y.shape"
   ]
  },
  {
   "cell_type": "markdown",
   "metadata": {},
   "source": [
    "## Backward Pass for Single Example"
   ]
  },
  {
   "cell_type": "markdown",
   "metadata": {},
   "source": [
    "#### Functions"
   ]
  },
  {
   "cell_type": "code",
   "execution_count": 51,
   "metadata": {},
   "outputs": [],
   "source": [
    "def d_relu(g):\n",
    "    return g>0 \n",
    "\n",
    "def d_softmax(Y_hat, Y):\n",
    "    return Y_hat - Y"
   ]
  },
  {
   "cell_type": "code",
   "execution_count": null,
   "metadata": {},
   "outputs": [],
   "source": [
    "cost = 0\n",
    "for x in range(len(Y_hat)):\n",
    "    cost += np.sum( - (Y[x] * np.log(Y_hat[x]) + (1 - Y[x]) * np.log(1 - Y_hat[x])) )\n",
    "#cost = np.sum( - (Y * np.log(Y_hat) + (1 - Y) * np.log(1 - Y_hat)) )\n",
    "\n",
    "dJ_dZ2 = d_softmax(Y_hat,Y)        \n",
    "dJ_dtheta2 = np.dot(L1.T, dJ_dZ2)                      # compute gradients\n",
    "dJ_db2 = np.sum(dJ_dZ2, axis=0, keepdims=True)\n",
    "    \n",
    "dJ_dZ1 = np.dot(dJ_dZ2, W2) * d_relu(L1)\n",
    "dJ_db1 = np.sum(dJ_dZ1, axis=0, keepdims=True)\n",
    "print(cost)\n"
   ]
  },
  {
   "cell_type": "markdown",
   "metadata": {},
   "source": [
    "## Keras"
   ]
  },
  {
   "cell_type": "code",
   "execution_count": 5,
   "metadata": {},
   "outputs": [],
   "source": [
    "from keras.models import Sequential\n",
    "from keras.layers.core import Dense"
   ]
  },
  {
   "cell_type": "markdown",
   "metadata": {},
   "source": [
    "### Load Data"
   ]
  },
  {
   "cell_type": "code",
   "execution_count": 6,
   "metadata": {},
   "outputs": [],
   "source": [
    "num_classes = 10\n",
    "\n",
    "(x_train, y_train), (x_test, y_test) = mnist.load_data()\n",
    "\n",
    "x_train = x_train.astype('float32').reshape(-1,784)\n",
    "x_test = x_test.astype('float32').reshape(-1,784)\n",
    "\n",
    "x_train /= 255.; x_test /= 255.\n",
    "\n",
    "y_train = keras.utils.to_categorical(y_train, num_classes)\n",
    "y_test = keras.utils.to_categorical(y_test, num_classes)"
   ]
  },
  {
   "cell_type": "markdown",
   "metadata": {},
   "source": [
    "### Making a Model"
   ]
  },
  {
   "cell_type": "code",
   "execution_count": 7,
   "metadata": {},
   "outputs": [],
   "source": [
    "model = Sequential()\n",
    "model.add(Dense(256, activation='relu',input_shape=(784,)))\n",
    "model.add(Dense(256, activation='relu'))\n",
    "\n",
    "model.add(Dense(model.fit(x_train, y_train,batch_size=32,epochs=10,verbose=1,validation_data=(x_test, y_test))10, activation='softmax'))\n",
    "\n",
    "model.compile(loss=keras.losses.categorical_crossentropy,optimizer=keras.optimizers.Adadelta(),metrics=['accuracy'])"
   ]
  },
  {
   "cell_type": "markdown",
   "metadata": {},
   "source": [
    "### Training Model"
   ]
  },
  {
   "cell_type": "code",
   "execution_count": 8,
   "metadata": {},
   "outputs": [
    {
     "name": "stdout",
     "output_type": "stream",
     "text": [
      "Train on 60000 samples, validate on 10000 samples\n",
      "Epoch 1/10\n",
      "60000/60000 [==============================] - 12s 203us/step - loss: 0.2078 - acc: 0.9372 - val_loss: 0.0930 - val_acc: 0.9703\n",
      "Epoch 2/10\n",
      "60000/60000 [==============================] - 13s 219us/step - loss: 0.0817 - acc: 0.9752 - val_loss: 0.0840 - val_acc: 0.9745\n",
      "Epoch 3/10\n",
      "60000/60000 [==============================] - 11s 180us/step - loss: 0.0552 - acc: 0.9834 - val_loss: 0.0760 - val_acc: 0.9754\n",
      "Epoch 4/10\n",
      "60000/60000 [==============================] - 11s 180us/step - loss: 0.0400 - acc: 0.9877 - val_loss: 0.0649 - val_acc: 0.9809\n",
      "Epoch 5/10\n",
      "60000/60000 [==============================] - 11s 189us/step - loss: 0.0291 - acc: 0.9910 - val_loss: 0.0669 - val_acc: 0.9806\n",
      "Epoch 6/10\n",
      "60000/60000 [==============================] - 11s 188us/step - loss: 0.0224 - acc: 0.9932 - val_loss: 0.0734 - val_acc: 0.9810\n",
      "Epoch 7/10\n",
      "60000/60000 [==============================] - 11s 188us/step - loss: 0.0171 - acc: 0.9947 - val_loss: 0.0737 - val_acc: 0.9804\n",
      "Epoch 8/10\n",
      "60000/60000 [==============================] - 11s 184us/step - loss: 0.0121 - acc: 0.9965 - val_loss: 0.0829 - val_acc: 0.9790\n",
      "Epoch 9/10\n",
      "60000/60000 [==============================] - 11s 186us/step - loss: 0.0085 - acc: 0.9976 - val_loss: 0.0805 - val_acc: 0.9810\n",
      "Epoch 10/10\n",
      "60000/60000 [==============================] - 11s 181us/step - loss: 0.0065 - acc: 0.9981 - val_loss: 0.0734 - val_acc: 0.9826\n"
     ]
    },
    {
     "data": {
      "text/plain": [
       "<keras.callbacks.History at 0x1d8975cada0>"
      ]
     },
     "execution_count": 8,
     "metadata": {},
     "output_type": "execute_result"
    }
   ],
   "source": [
    "model.fit(x_train, y_train,batch_size=32,epochs=10,verbose=1,validation_data=(x_test, y_test))"
   ]
  },
  {
   "cell_type": "markdown",
   "metadata": {},
   "source": [
    "## Statement of Collaboration"
   ]
  },
  {
   "cell_type": "markdown",
   "metadata": {},
   "source": [
    "#### a. Whom I worked with:\n",
    "The bulk of this I did myself, however, you gave most of the code for this lab so I guess I worked with you? But I also did some of it with Tucker, Matt, and Kolby\n",
    "#### b. Resources Used:\n",
    "The only resources I used was your notebook for this assignment and your slides."
   ]
  }
 ],
 "metadata": {
  "kernelspec": {
   "display_name": "Python 3",
   "language": "python",
   "name": "python3"
  },
  "language_info": {
   "codemirror_mode": {
    "name": "ipython",
    "version": 3
   },
   "file_extension": ".py",
   "mimetype": "text/x-python",
   "name": "python",
   "nbconvert_exporter": "python",
   "pygments_lexer": "ipython3",
   "version": "3.6.8"
  }
 },
 "nbformat": 4,
 "nbformat_minor": 2
}
